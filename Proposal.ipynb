{
 "cells": [
  {
   "cell_type": "markdown",
   "id": "a1ec870a-380e-4d7c-ae81-f7aae633d72a",
   "metadata": {},
   "source": [
    "Title:\n"
   ]
  },
  {
   "cell_type": "markdown",
   "id": "8533797d-6422-4b82-b99a-bc7f613cc842",
   "metadata": {
    "tags": []
   },
   "source": [
    "Introduction:\n",
    "Provide some relevant background information on the topic so that someone unfamiliar with it will be prepared to understand the rest of your proposal\n",
    "Clearly state the question you will try to answer with your project\n",
    "Identify and describe the dataset that will be used to answer the question"
   ]
  },
  {
   "cell_type": "markdown",
   "id": "b7cc5e3a-49e7-4103-948d-b89a9ad19ade",
   "metadata": {},
   "source": [
    "Preliminary exploratory data analysis:\n",
    "Demonstrate that the dataset can be read from the web into R \n",
    "Clean and wrangle your data into a tidy format\n",
    "Using only training data, summarize the data in at least one table (this is exploratory data analysis). An example of a useful table could be one that reports the number of observations in each class, the means of the predictor variables you plan to use in your analysis and how many rows have missing data. \n",
    "Using only training data, visualize the data with at least one plot relevant to the analysis you plan to do (this is exploratory data analysis). An example of a useful visualization could be one that compares the distributions of each of the predictor variables you plan to use in your analysis. "
   ]
  },
  {
   "cell_type": "markdown",
   "id": "87d90c53-59c7-46f8-ace1-38820a80375f",
   "metadata": {},
   "source": [
    "Introduction:\n",
    "\n",
    "IMDB is an online database of information related to films, television series, podcasts, and other forms of entertainment content. For our project we will be working specifically with movie (film) data from IMDB. This database presents data regarding several aspects of the content - including cast, production crew, plot summary, and scores. IMDB presents two kinds of scores; IMDB scores which are user-generated, meaning they are an average of reviews submitted on the IMDB website by non-critic viewers, and Meta Scores which are critic-generated, meaning they are an average of reviews from critics, professionals who analyze films. \n",
    "\n",
    "For our project we will try to answer the following question:\n",
    "\"How accurate are the Meta Scores of films in representing the general interest of the viewers?\"\n",
    "\n",
    "The dataset presented is from Kaggle, and includes data from the top 1000 movies based on the IMDB score from the IMBD online database. The dataset includes data for movie name (Series_Title), year of release (Released_year), certificate earner by the movie e.g. R, A, UA, U (Certificate), total runtime (Runtime), genre (Genre), the IMDB score of the movie (IMDB_Rating), plot summary (Overview), the Meta score of the movie (Meta_score), the director (Director), stars of the movie (Star1, Star2, Star3, Star4), number of reviews on IMDB (No_of_votes), and the amount of money earned by the movie (Gross). For this project will analyze the relationship between audience perception of a movie (IMDB scores) and the Meta scores of the movies.\n"
   ]
  },
  {
   "cell_type": "markdown",
   "id": "47093674-25bb-4f5d-8c96-d8f59c4e9d25",
   "metadata": {},
   "source": [
    "Dataset Origin: https://www.kaggle.com/datasets/harshitshankhdhar/imdb-dataset-of-top-1000-movies-and-tv-shows"
   ]
  },
  {
   "cell_type": "code",
   "execution_count": null,
   "id": "a8653314-ca0b-4c82-82ad-37717519f20f",
   "metadata": {
    "tags": []
   },
   "outputs": [],
   "source": [
    "### Initialize. \n",
    "library(tidyverse)\n",
    "library(repr)\n",
    "library(rvest)\n",
    "library(stringr)\n",
    "options(repr.matrix.max.rows = 6)"
   ]
  },
  {
   "cell_type": "code",
   "execution_count": null,
   "id": "ca92eecd-87c5-401a-8934-8651348acf39",
   "metadata": {
    "tags": []
   },
   "outputs": [],
   "source": [
    "### Reading from Github\n",
    "url <- \"https://github.com/anh-dong/dsci-100-2023w1-group-33/blob/main/data/imdb_top_1000.csv?raw=true\"\n",
    "movies_raw <- read_csv(url) |>\n",
    "    select(-Poster_Link, -Overview) |>\n",
    "    filter(Released_Year > 1970) |>\n",
    "    mutate(Meta_score = scale(Meta_score), IMDB_Rating = scale(IMDB_Rating))\n",
    "# movies_raw\n",
    "# selectors <- paste()\n",
    "movies_raw"
   ]
  },
  {
   "cell_type": "code",
   "execution_count": null,
   "id": "238744a3-6503-4064-bfd6-3fadb54440fa",
   "metadata": {},
   "outputs": [],
   "source": [
    "### Table Summary\n",
    "movies <- movies_raw |>\n",
    "    select(Meta_score, IMDB_Rating)\n",
    "    "
   ]
  },
  {
   "cell_type": "code",
   "execution_count": null,
   "id": "ba759768-bbcf-4f7d-8dc2-4a1eda40bdfb",
   "metadata": {
    "tags": []
   },
   "outputs": [],
   "source": [
    "### Summary Visual\n",
    "Meta_score_hist <- movies |>\n",
    "    ggplot(aes(Meta_score)) +\n",
    "        geom_histogram(binwidth = 0.5) +\n",
    "        xlab(\"Normalized Meta Score\") +\n",
    "        ylab(\"Count\") +\n",
    "        ggtitle(\"Distribution of Meta Scores\")\n",
    "Meta_score_hist\n",
    "\n",
    "IMDB_Review_hist <- movies |>\n",
    "    ggplot(aes(IMDB_Rating)) +\n",
    "        geom_histogram(binwidth = 0.5) +\n",
    "        xlab(\"Normalized IMDB Rating\") +\n",
    "        ylab(\"Count\") +\n",
    "        ggtitle(\"Distribution of IMDB Ratings\")\n",
    "IMDB_Review_hist"
   ]
  },
  {
   "cell_type": "code",
   "execution_count": null,
   "id": "f43b7fa8-607b-428a-8e7e-210d0ef9a1dd",
   "metadata": {
    "tags": []
   },
   "outputs": [],
   "source": [
    "movies <- movies_raw |>\n",
    "    select(Released_Year, Meta_score, Gross, Runtime, IMDB_Rating) |>\n",
    "    na.omit() |>\n",
    "    mutate(Runtime = strtoi(Runtime %>% str_replace(\" min\", \"\"))) |>\n",
    "    group_by(Released_Year) |>\n",
    "    summarize(ave_Gross = mean(Gross), ave_runtime = mean(Runtime)*60, ave_score = mean(Meta_score), ave_IMDB_Rating = mean(IMDB_Rating)) |>\n",
    "    arrange(Released_Year)\n",
    "# movies\n",
    "movies_plot <- movies |>\n",
    "    ggplot(aes(Released_Year, ave_Gross)) +\n",
    "        geom_point() +\n",
    "        xlab(\"Year\") +\n",
    "        ylab(\"Gross (USD)\") +\n",
    "        ggtitle(\"Average Yearly Gross for Movies over time\")\n",
    "movies_plot\n",
    "movies_plot_2 <- movies |>\n",
    "    ggplot(aes(Released_Year, ave_runtime)) +\n",
    "        geom_point() +\n",
    "        xlab(\"Year\") +\n",
    "        ylab(\"Runtime (hours)\") +\n",
    "        ggtitle(\"Movie Length for Movies over time\")\n",
    "movies_plot_2\n",
    "movies_plot_3 <- movies |>\n",
    "    ggplot(aes(Released_Year, ave_IMDB_Rating)) +\n",
    "        geom_point() +\n",
    "        xlab(\"Year\") +\n",
    "        ylab(\"Runtime (hours)\") +\n",
    "        ggtitle(\"Movie Length for Movies over time\")\n",
    "movies_plot_3\n"
   ]
  },
  {
   "cell_type": "code",
   "execution_count": null,
   "id": "08d19906-fb99-42ed-a796-6a688123e4a0",
   "metadata": {
    "tags": []
   },
   "outputs": [],
   "source": [
    "movies2 <- movies_raw |>\n",
    "    select(Meta_score, Gross, Runtime, IMDB_Rating) |>\n",
    "    na.omit() |>\n",
    "    mutate(Runtime = strtoi(Runtime %>% str_replace(\" min\", \"\"))) |>\n",
    "    group_by(Meta_score) |>\n",
    "    summarize(ave_Gross = mean(Gross), ave_runtime = mean(Runtime)*60, ave_IMDB_Rating = mean(IMDB_Rating))\n",
    "movies_plot_3 <- movies2 |>\n",
    "    ggplot(aes(Meta_score, ave_Gross)) +\n",
    "        geom_point() +\n",
    "        xlab(\"Meta Score\") +\n",
    "        ylab(\"Ave Gross (USD)\") +\n",
    "        ggtitle(\"Meta Score vs Ave Gross\")\n",
    "movies_plot_3\n",
    "movies_plot_3 <- movies2 |>\n",
    "    ggplot(aes(Meta_score, ave_runtime)) +\n",
    "        geom_point() +\n",
    "        xlab(\"Meta Score\") +\n",
    "        ylab(\"Ave Runtime (Hours)\") +\n",
    "        ggtitle(\"Meta Score vs Ave Gross\")\n",
    "movies_plot_3\n",
    "movies_plot_4 <- movies2 |>\n",
    "    ggplot(aes(Meta_score, ave_IMDB_Rating)) +\n",
    "        geom_point() +\n",
    "        xlab(\"Meta Score\") +\n",
    "        ylab(\"Ave Runtime (Hours)\") +\n",
    "        ggtitle(\"Meta Score vs Ave Gross\")\n",
    "movies_plot_4"
   ]
  },
  {
   "cell_type": "code",
   "execution_count": null,
   "id": "9153cd32-5d71-44cc-906b-80d226f786a8",
   "metadata": {
    "tags": []
   },
   "outputs": [],
   "source": [
    "movies3 <- movies_raw |>\n",
    "    select(Meta_score, Gross, Runtime, IMDB_Rating) |>\n",
    "    na.omit() |>\n",
    "    mutate(Runtime = strtoi(Runtime %>% str_replace(\" min\", \"\")))\n",
    "movies_plot_3 <- movies3 |>\n",
    "    ggplot(aes(Meta_score, IMDB_Rating)) +\n",
    "        geom_point() +\n",
    "        xlab(\"Year\") +\n",
    "        ylab(\"Runtime (hours)\") +\n",
    "        ggtitle(\"Movie Length for Movies over time\")\n",
    "movies_plot_3"
   ]
  },
  {
   "cell_type": "markdown",
   "id": "bfb0b404-7f9f-4486-9a31-747de9c5e47a",
   "metadata": {},
   "source": [
    "Methods:\n",
    "\n",
    "\n",
    "Explain how you will conduct either your data analysis and which variables/columns you will use. Note - you do not need to use all variables/columns that exist in the raw data set. In fact, that's often not a good idea. For each variable think: is this a useful variable for prediction?\n",
    "Describe at least one way that you will visualize the results"
   ]
  },
  {
   "cell_type": "markdown",
   "id": "1d43f577-f8de-49e2-8756-c6061119df41",
   "metadata": {},
   "source": [
    "Expected outcomes and significance:\n",
    "\n",
    "\n",
    "What do you expect to find?\n",
    "What impact could such findings have?\n",
    "What future questions could this lead to?"
   ]
  },
  {
   "cell_type": "markdown",
   "id": "2d0788ec-c559-4596-a0d9-08f5d4fe41c1",
   "metadata": {},
   "source": [
    "Expected Outcomes and Significance:\n",
    "\n",
    "Our prediction is that that the Meta Scores will be somewhat proportional to each other, but will vary to some extent. We expect this variation because the individuals who provided the reviews for which the IMDB scores are based off of are most likely "
   ]
  }
 ],
 "metadata": {
  "kernelspec": {
   "display_name": "R",
   "language": "R",
   "name": "ir"
  },
  "language_info": {
   "codemirror_mode": "r",
   "file_extension": ".r",
   "mimetype": "text/x-r-source",
   "name": "R",
   "pygments_lexer": "r",
   "version": "4.2.2"
  }
 },
 "nbformat": 4,
 "nbformat_minor": 5
}
