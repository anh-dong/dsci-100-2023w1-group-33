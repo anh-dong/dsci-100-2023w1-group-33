{
 "cells": [
  {
   "cell_type": "markdown",
   "id": "a1ec870a-380e-4d7c-ae81-f7aae633d72a",
   "metadata": {},
   "source": [
    "Title:\n"
   ]
  },
  {
   "cell_type": "markdown",
   "id": "8533797d-6422-4b82-b99a-bc7f613cc842",
   "metadata": {
    "tags": []
   },
   "source": [
    "Introduction:\n",
    "Provide some relevant background information on the topic so that someone unfamiliar with it will be prepared to understand the rest of your proposal\n",
    "Clearly state the question you will try to answer with your project\n",
    "Identify and describe the dataset that will be used to answer the question"
   ]
  },
  {
   "cell_type": "markdown",
   "id": "b7cc5e3a-49e7-4103-948d-b89a9ad19ade",
   "metadata": {},
   "source": [
    "Preliminary exploratory data analysis:\n",
    "Demonstrate that the dataset can be read from the web into R \n",
    "Clean and wrangle your data into a tidy format\n",
    "Using only training data, summarize the data in at least one table (this is exploratory data analysis). An example of a useful table could be one that reports the number of observations in each class, the means of the predictor variables you plan to use in your analysis and how many rows have missing data. \n",
    "Using only training data, visualize the data with at least one plot relevant to the analysis you plan to do (this is exploratory data analysis). An example of a useful visualization could be one that compares the distributions of each of the predictor variables you plan to use in your analysis. "
   ]
  },
  {
   "cell_type": "markdown",
   "id": "47093674-25bb-4f5d-8c96-d8f59c4e9d25",
   "metadata": {},
   "source": [
    "Links to potential datasets:\n",
    "\n",
    "Sunshine hours for cities:\n",
    "https://data.world/makeovermonday/2019w44\n"
   ]
  },
  {
   "cell_type": "code",
   "execution_count": 1,
   "id": "a8653314-ca0b-4c82-82ad-37717519f20f",
   "metadata": {
    "tags": []
   },
   "outputs": [
    {
     "name": "stderr",
     "output_type": "stream",
     "text": [
      "── \u001b[1mAttaching packages\u001b[22m ─────────────────────────────────────── tidyverse 1.3.2 ──\n",
      "\u001b[32m✔\u001b[39m \u001b[34mggplot2\u001b[39m 3.4.2     \u001b[32m✔\u001b[39m \u001b[34mpurrr  \u001b[39m 1.0.1\n",
      "\u001b[32m✔\u001b[39m \u001b[34mtibble \u001b[39m 3.2.1     \u001b[32m✔\u001b[39m \u001b[34mdplyr  \u001b[39m 1.1.1\n",
      "\u001b[32m✔\u001b[39m \u001b[34mtidyr  \u001b[39m 1.3.0     \u001b[32m✔\u001b[39m \u001b[34mstringr\u001b[39m 1.5.0\n",
      "\u001b[32m✔\u001b[39m \u001b[34mreadr  \u001b[39m 2.1.3     \u001b[32m✔\u001b[39m \u001b[34mforcats\u001b[39m 0.5.2\n",
      "── \u001b[1mConflicts\u001b[22m ────────────────────────────────────────── tidyverse_conflicts() ──\n",
      "\u001b[31m✖\u001b[39m \u001b[34mdplyr\u001b[39m::\u001b[32mfilter()\u001b[39m masks \u001b[34mstats\u001b[39m::filter()\n",
      "\u001b[31m✖\u001b[39m \u001b[34mdplyr\u001b[39m::\u001b[32mlag()\u001b[39m    masks \u001b[34mstats\u001b[39m::lag()\n",
      "\n",
      "Attaching package: ‘rvest’\n",
      "\n",
      "\n",
      "The following object is masked from ‘package:readr’:\n",
      "\n",
      "    guess_encoding\n",
      "\n",
      "\n"
     ]
    },
    {
     "ename": "ERROR",
     "evalue": "Error in library(janitor): there is no package called ‘janitor’\n",
     "output_type": "error",
     "traceback": [
      "Error in library(janitor): there is no package called ‘janitor’\nTraceback:\n",
      "1. library(janitor)"
     ]
    }
   ],
   "source": [
    "### Run this cell before continuing. \n",
    "library(tidyverse)\n",
    "library(repr)\n",
    "library(rvest)\n",
    "library(stringr)\n",
    "library(janitor)\n",
    "options(repr.matrix.max.rows = 6)\n",
    "source(\"tests.R\")\n",
    "source(\"cleanup.R\")"
   ]
  },
  {
   "cell_type": "code",
   "execution_count": 2,
   "id": "d0e28a77-6bfc-4fd4-9826-33d4b3b746da",
   "metadata": {
    "tags": []
   },
   "outputs": [
    {
     "name": "stdout",
     "output_type": "stream",
     "text": [
      "{html_document}\n",
      "<html class=\"client-nojs mf-font-size-clientpref-regular\" lang=\"en\" dir=\"ltr\">\n",
      "[1] <head>\\n<meta http-equiv=\"Content-Type\" content=\"text/html; charset=UTF-8 ...\n",
      "[2] <body class=\"mediawiki ltr sitedir-ltr mw-hide-empty-elt ns-0 ns-subject  ...\n"
     ]
    }
   ],
   "source": [
    "url <- 'https://en.m.wikipedia.org/wiki/List_of_cities_by_sunshine_duration'\n",
    "\n",
    "sunshine <- read_html(url)\n",
    "print(sunshine)"
   ]
  },
  {
   "cell_type": "code",
   "execution_count": 3,
   "id": "5de86486-a110-458e-b142-5809bb61985d",
   "metadata": {
    "tags": []
   },
   "outputs": [
    {
     "data": {
      "text/html": [
       "<style>\n",
       ".list-inline {list-style: none; margin:0; padding: 0}\n",
       ".list-inline>li {display: inline-block}\n",
       ".list-inline>li:not(:last-child)::after {content: \"\\00b7\"; padding: 0 .5ex}\n",
       "</style>\n",
       "<ol class=list-inline><li>'Gagnoa\\n'</li><li>'Bouaké\\n'</li><li>'Abidjan\\n'</li><li>'Odienné\\n'</li><li>'Ferké\\n'</li><li>'Cotonou\\n'</li></ol>\n"
      ],
      "text/latex": [
       "\\begin{enumerate*}\n",
       "\\item 'Gagnoa\\textbackslash{}n'\n",
       "\\item 'Bouaké\\textbackslash{}n'\n",
       "\\item 'Abidjan\\textbackslash{}n'\n",
       "\\item 'Odienné\\textbackslash{}n'\n",
       "\\item 'Ferké\\textbackslash{}n'\n",
       "\\item 'Cotonou\\textbackslash{}n'\n",
       "\\end{enumerate*}\n"
      ],
      "text/markdown": [
       "1. 'Gagnoa\\n'\n",
       "2. 'Bouaké\\n'\n",
       "3. 'Abidjan\\n'\n",
       "4. 'Odienné\\n'\n",
       "5. 'Ferké\\n'\n",
       "6. 'Cotonou\\n'\n",
       "\n",
       "\n"
      ],
      "text/plain": [
       "[1] \"Gagnoa\\n\"  \"Bouaké\\n\"  \"Abidjan\\n\" \"Odienné\\n\" \"Ferké\\n\"   \"Cotonou\\n\""
      ]
     },
     "metadata": {},
     "output_type": "display_data"
    }
   ],
   "source": [
    "city <- html_text(html_nodes(sunshine, \"td:nth-child(2)\"))\n",
    "head(city)"
   ]
  },
  {
   "cell_type": "code",
   "execution_count": 4,
   "id": "0dcddd29-6e7c-458d-92eb-fbe8b8ed2b9e",
   "metadata": {
    "tags": []
   },
   "outputs": [
    {
     "name": "stdout",
     "output_type": "stream",
     "text": [
      "  [1] \"Gagnoa\"                   \"Bouaké\"                  \n",
      "  [3] \"Abidjan\"                  \"Odienné\"                 \n",
      "  [5] \"Ferké\"                    \"Cotonou\"                 \n",
      "  [7] \"Parakou\"                  \"Kandi\"                   \n",
      "  [9] \"Lomé\"                     \"Mango\"                   \n",
      " [11] \"Accra\"                    \"Tamale\"                  \n",
      " [13] \"Kumasi\"                   \"Garoua\"                  \n",
      " [15] \"N'Gaoundéré\"              \"Douala\"                  \n",
      " [17] \"Yaoundé\"                  \"Libreville\"              \n",
      " [19] \"Port-Gentil\"              \"Lagos\"                   \n",
      " [21] \"Makurdi\"                  \"Jos\"                     \n",
      " [23] \"Kano\"                     \"Sokoto\"                  \n",
      " [25] \"Port Sudan\"               \"Khartoum\"                \n",
      " [27] \"Asmara\"                   \"Ouagadougou\"             \n",
      " [29] \"Ouahigouya\"               \"Niamey\"                  \n",
      " [31] \"N'Djamena\"                \"Abéché\"                  \n",
      " [33] \"Banjul\"                   \"Dakar\"                   \n",
      " [35] \"Thiès\"                    \"Mogadishu\"               \n",
      " [37] \"Buloburde\"                \"Djibouti City\"           \n",
      " [39] \"Ségou\"                    \"Timbuktu\"                \n",
      " [41] \"Bamako\"                   \"Algiers\"                 \n",
      " [43] \"Tamanrasset\"              \"Tunis\"                   \n",
      " [45] \"Gabes\"                    \"Rabat\"                   \n",
      " [47] \"Marrakech\"                \"Ouarzazate\"              \n",
      " [49] \"Alexandria\"               \"Cairo\"                   \n",
      " [51] \"Dakhla Oasis\"             \"Hurghada\"                \n",
      " [53] \"Marsa Alam\"               \"Tripoli\"                 \n",
      " [55] \"Benghazi\"                 \"Mombasa\"                 \n",
      " [57] \"Nairobi\"                  \"Garissa\"                 \n",
      " [59] \"Lodwar\"                   \"Luanda\"                  \n",
      " [61] \"Juba\"                     \"Wau\"                     \n",
      " [63] \"Dar-es-Salaam\"            \"Zanzibar\"                \n",
      " [65] \"Tabora\"                   \"Dodoma\"                  \n",
      " [67] \"Mekelle\"                  \"Addis Abeba\"             \n",
      " [69] \"Brazzaville\"              \"Pointe-Noire\"            \n",
      " [71] \"Dolisie\"                  \"Kinshasa\"                \n",
      " [73] \"Lubumbashi\"               \"Nouadhibou\"              \n",
      " [75] \"Nouakchott\"               \"Pretoria\"                \n",
      " [77] \"Cape Town\"                \"Johannesburg\"            \n",
      " [79] \"Bloemfontein\"             \"Upington\"                \n",
      " [81] \"Durban\"                   \"Maun\"                    \n",
      " [83] \"Gaborone\"                 \"Ghanzi\"                  \n",
      " [85] \"Ndola\"                    \"Lusaka\"                  \n",
      " [87] \"Livingstone\"              \"Harare\"                  \n",
      " [89] \"Bulawayo\"                 \"Karonga\"                 \n",
      " [91] \"Blantyre\"                 \"Mzuzu\"                   \n",
      " [93] \"Fianarantsoa\"             \"Toamasina\"               \n",
      " [95] \"Antananarivo\"             \"Antsiranana\"             \n",
      " [97] \"Mahajanga\"                \"Toliara\"                 \n",
      " [99] \"Maputo\"                   \"Bangui\"                  \n",
      "[101] \"Birao\"                    \"Kampala\"                 \n",
      "[103] \"Entebbe\"                  \"Bujumbura\"               \n",
      "[105] \"Conakry\"                  \"Kankan\"                  \n",
      "[107] \"Bissau\"                   \"Bata\"                    \n",
      "[109] \"Malabo\"                   \"Keetmanshoop\"            \n",
      "[111] \"Windhoek\"                 \"Kabul\"                   \n",
      "[113] \"Baku\"                     \"Beirut\"                  \n",
      "[115] \"Dhaka\"                    \"Beijing\"                 \n",
      "[117] \"Chongqing\"                \"Fuzhou\"                  \n",
      "[119] \"Guangzhou\"                \"Hong Kong\"               \n",
      "[121] \"Lhasa\"                    \"Macau\"                   \n",
      "[123] \"Nanjing\"                  \"Ningbo\"                  \n",
      "[125] \"Qingdao\"                  \"Shanghai\"                \n",
      "[127] \"Tianjin\"                  \"Ürümqi\"                  \n",
      "[129] \"Wuhan\"                    \"Xiamen\"                  \n",
      "[131] \"Delhi\"                    \"Kolkata\"                 \n",
      "[133] \"Mumbai\"                   \"Bangalore\"               \n",
      "[135] \"Chennai\"                  \"Denpasar\"                \n",
      "[137] \"Jakarta\"                  \"Makassar\"                \n",
      "[139] \"Medan\"                    \"Bandar Abbas\"            \n",
      "[141] \"Isfahan\"                  \"Mashhad\"                 \n",
      "[143] \"Tehran\"                   \"Baghdad\"                 \n",
      "[145] \"Tel Aviv\"                 \"Sapporo\"                 \n",
      "[147] \"Sendai\"                   \"Tokyo\"                   \n",
      "[149] \"Kanazawa\"                 \"Nagoya\"                  \n",
      "[151] \"Almaty\"                   \"Astana\"                  \n",
      "[153] \"Ulaanbaatar\"              \"Pyongyang\"               \n",
      "[155] \"Muscat\"                   \"Karachi\"                 \n",
      "[157] \"Lahore\"                   \"Quetta\"                  \n",
      "[159] \"Manila\"                   \"Dikson\"                  \n",
      "[161] \"Irkutsk\"                  \"Omsk\"                    \n",
      "[163] \"Petropavlovsk-Kamchatsky\" \"Vladivostok\"             \n",
      "[165] \"Yakutsk\"                  \"Abha\"                    \n",
      "[167] \"Riyadh\"                   \"Singapore\"               \n",
      "[169] \"Busan\"                    \"Seoul\"                   \n",
      "[171] \"Kaohsiung\"                \"Taichung\"                \n",
      "[173] \"Taipei\"                   \"Bangkok\"                 \n",
      "[175] \"Chiang Mai\"               \"Hat Yai\"                 \n",
      "[177] \"Nakhon Ratchasima\"        \"Ankara\"                  \n",
      "[179] \"Dubai\"                    \"Tashkent\"                \n",
      "[181] \"Da Lat\"                   \"Da Nang\"                 \n",
      "[183] \"Hanoi\"                    \"Ho Chi Minh City\"        \n",
      "[185] \"Tirana\"                   \"Yerevan\"                 \n",
      "[187] \"Vienna\"                   \"Minsk\"                   \n",
      "[189] \"Brussels\"                 \"Sarajevo\"                \n",
      "[191] \"Sofia\"                    \"Zagreb\"                  \n",
      "[193] \"Split\"                    \"Prague\"                  \n",
      "[195] \"Nicosia\"                  \"Aarhus\"                  \n",
      "[197] \"Copenhagen\"               \"Rønne\"                   \n",
      "[199] \"Tallinn\"                  \"Vilsandi\"                \n",
      "[201] \"Tórshavn\"                 \"Helsinki\"                \n",
      "[203] \"Lyon\"                     \"Marseille\"               \n",
      "[205] \"Nice\"                     \"Paris\"                   \n",
      "[207] \"Tbilisi\"                  \"Berlin\"                  \n",
      "[209] \"Frankfurt\"                \"Athens\"                  \n",
      "[211] \"Budapest\"                 \"Reykjavik\"               \n",
      "[213] \"Dublin\"                   \"Cagliari\"                \n",
      "[215] \"Milan\"                    \"Naples\"                  \n",
      "[217] \"Rome\"                     \"Riga\"                    \n",
      "[219] \"Vilnius\"                  \"Luxembourg City\"         \n",
      "[221] \"Valletta\"                 \"Chișinău\"                \n",
      "[223] \"Monaco\"                   \"Podgorica\"               \n",
      "[225] \"Amsterdam\"                \"Skopje\"                  \n",
      "[227] \"Bergen\"                   \"Oslo\"                    \n",
      "[229] \"Tromsø\"                   \"Warsaw\"                  \n",
      "[231] \"Faro\"                     \"Lisbon\"                  \n",
      "[233] \"Porto\"                    \"Bucharest\"               \n",
      "[235] \"Moscow\"                   \"Sochi\"                   \n",
      "[237] \"Belgrade\"                 \"Niš\"                     \n",
      "[239] \"Bratislava\"               \"Ljubljana\"               \n",
      "[241] \"Almería\"                  \"Barcelona\"               \n",
      "[243] \"Cádiz\"                    \"Madrid\"                  \n",
      "[245] \"Seville\"                  \"Valencia\"                \n",
      "[247] \"Gothenburg\"               \"Stockholm\"               \n",
      "[249] \"Zurich\"                   \"Geneva\"                  \n",
      "[251] \"Sion\"                     \"Lugano\"                  \n",
      "[253] \"Istanbul\"                 \"Kyiv\"                    \n",
      "[255] \"Edinburgh\"                \"Manchester\"              \n",
      "[257] \"London\"                   \"Calgary\"                 \n",
      "[259] \"Churchill\"                \"Edmonton\"                \n",
      "[261] \"Iqaluit\"                  \"Montreal\"                \n",
      "[263] \"Toronto\"                  \"Vancouver\"               \n",
      "[265] \"Whitehorse\"               \"Winnipeg\"                \n",
      "[267] \"La Ceiba\"                 \"La Paz\"                  \n",
      "[269] \"Mexico City\"              \"Monterrey\"               \n",
      "[271] \"Villahermosa\"             \"Managua\"                 \n",
      "[273] \"Panama City\"              \"San Juan\"                \n",
      "[275] \"San Salvador\"             \"Saint-Pierre\"            \n",
      "[277] \"Albuquerque\"              \"Anchorage\"               \n",
      "[279] \"Atlanta\"                  \"Austin\"                  \n",
      "[281] \"Baltimore\"                \"Boise\"                   \n",
      "[283] \"Boston\"                   \"Charlotte\"               \n",
      "[285] \"Chicago\"                  \"Cleveland\"               \n",
      "[287] \"Columbus\"                 \"Dallas\"                  \n",
      "[289] \"Denver\"                   \"Detroit\"                 \n",
      "[291] \"El Paso\"                  \"Fresno\"                  \n",
      "[293] \"Honolulu\"                 \"Houston\"                 \n",
      "[295] \"Indianapolis\"             \"Jacksonville\"            \n",
      "[297] \"Kansas City\"              \"Las Vegas\"               \n",
      "[299] \"Los Angeles\"              \"Louisville\"              \n",
      "[301] \"Memphis\"                  \"Miami\"                   \n",
      "[303] \"Milwaukee\"                \"Minneapolis\"             \n",
      "[305] \"Nashville\"                \"New Orleans\"             \n",
      "[307] \"New York City\"            \"Nome\"                    \n",
      "[309] \"OklahomaCity\"             \"Omaha\"                   \n",
      "[311] \"Philadelphia\"             \"Phoenix\"                 \n",
      "[313] \"Pittsburgh\"               \"Portland (OR)\"           \n",
      "[315] \"Raleigh\"                  \"Richmond (VA)\"           \n",
      "[317] \"Sacramento\"               \"Salt Lake City\"          \n",
      "[319] \"San Antonio\"              \"San Diego\"               \n",
      "[321] \"San Francisco\"            \"Seattle\"                 \n",
      "[323] \"St. Louis\"                \"Tampa\"                   \n",
      "[325] \"Tucson\"                   \"Tulsa\"                   \n",
      "[327] \"Virginia Beach\"           \"Washington,D.C.\"         \n",
      "[329] \"Wichita\"                  \"Yuma\"                    \n",
      "[331] \"Buenos Aires\"             \"Córdoba\"                 \n",
      "[333] \"La Plata\"                 \"Mendoza\"                 \n",
      "[335] \"Salta\"                    \"Ushuaia\"                 \n",
      "[337] \"La Paz\"                   \"Belém\"                   \n",
      "[339] \"Belo Horizonte\"           \"Brasília\"                \n",
      "[341] \"Curitiba\"                 \"Fortaleza\"               \n",
      "[343] \"Manaus\"                   \"Porto Alegre\"            \n",
      "[345] \"Rio de Janeiro\"           \"Recife\"                  \n",
      "[347] \"Salvador\"                 \"São Paulo\"               \n",
      "[349] \"Antofagasta\"              \"Calama\"                  \n",
      "[351] \"Concepción\"               \"Santiago\"                \n",
      "[353] \"Valdivia\"                 \"Barranquilla\"            \n",
      "[355] \"Bogotá\"                   \"Cali\"                    \n",
      "[357] \"Medellín\"                 \"Guayaquil\"               \n",
      "[359] \"Quito\"                    \"Stanley\"                 \n",
      "[361] \"Cayenne\"                  \"Georgetown\"              \n",
      "[363] \"Asunción\"                 \"Arequipa\"                \n",
      "[365] \"Lima\"                     \"Montevideo\"              \n",
      "[367] \"Caracas\"                  \"Maracaibo\"               \n",
      "[369] \"Ciudad Bolivar\"           \"Tennant Creek\"           \n",
      "[371] \"Oodnadatta\"               \"Broome\"                  \n",
      "[373] \"Alice Springs\"            \"Perth\"                   \n",
      "[375] \"Townsville\"               \"Darwin\"                  \n",
      "[377] \"Brisbane\"                 \"Canberra\"                \n",
      "[379] \"Adelaide\"                 \"Cairns\"                  \n",
      "[381] \"Launceston\"               \"Sydney\"                  \n",
      "[383] \"Port Moresby\"             \"Hobart\"                  \n",
      "[385] \"Melbourne\"                \"Honiara\"                 \n",
      "[387] \"Christchurch\"             \"Wellington\"              \n",
      "[389] \"Hamilton\"                 \"Auckland\"                \n",
      "[391] \"Suva\"                     \"Dunedin\"                 \n"
     ]
    }
   ],
   "source": [
    "# Replace \" CE\\n\" with nothing.\n",
    "city <- str_replace_all(string = city, pattern = \"\\n\", replacement = \"\")\n",
    "print(city) "
   ]
  },
  {
   "cell_type": "code",
   "execution_count": null,
   "id": "f43b7fa8-607b-428a-8e7e-210d0ef9a1dd",
   "metadata": {},
   "outputs": [],
   "source": []
  },
  {
   "cell_type": "markdown",
   "id": "bfb0b404-7f9f-4486-9a31-747de9c5e47a",
   "metadata": {},
   "source": [
    "Methods:\n",
    "\n",
    "\n",
    "Explain how you will conduct either your data analysis and which variables/columns you will use. Note - you do not need to use all variables/columns that exist in the raw data set. In fact, that's often not a good idea. For each variable think: is this a useful variable for prediction?\n",
    "Describe at least one way that you will visualize the results"
   ]
  },
  {
   "cell_type": "markdown",
   "id": "1d43f577-f8de-49e2-8756-c6061119df41",
   "metadata": {},
   "source": [
    "Expected outcomes and significance:\n",
    "\n",
    "\n",
    "What do you expect to find?\n",
    "What impact could such findings have?\n",
    "What future questions could this lead to?"
   ]
  }
 ],
 "metadata": {
  "kernelspec": {
   "display_name": "R",
   "language": "R",
   "name": "ir"
  },
  "language_info": {
   "codemirror_mode": "r",
   "file_extension": ".r",
   "mimetype": "text/x-r-source",
   "name": "R",
   "pygments_lexer": "r",
   "version": "4.2.2"
  }
 },
 "nbformat": 4,
 "nbformat_minor": 5
}
