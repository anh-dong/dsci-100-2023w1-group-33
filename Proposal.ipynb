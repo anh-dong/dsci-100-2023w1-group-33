{
 "cells": [
  {
   "cell_type": "markdown",
   "id": "a1ec870a-380e-4d7c-ae81-f7aae633d72a",
   "metadata": {},
   "source": [
    "# Exploring the Relationship Between the Meta Scores of Films and the Reviews of the General Audiance\n"
   ]
  },
  {
   "cell_type": "markdown",
   "id": "87d90c53-59c7-46f8-ace1-38820a80375f",
   "metadata": {},
   "source": [
    "## Introduction:\n",
    "IMDB is an online database for films, television series, podcasts, and other media. This project will be working with movie data from IMDB. The data set of interest contains content data - including cast, production crew, plot summary, and scores. IMDB presents two kinds of scores; IMDB scores which are user-generated averages of reviews submitted to IMDB by the general audience, and Meta Scores which are critic-generated, representing the views of professionals who analyze films.\n",
    "\n",
    "The goal of this project is to answer the following question:\n",
    "\"How accurate are the Meta Scores of films in predicting the reception of the general audience?\"\n",
    "\n",
    "\n",
    "The data set is from Kaggle, and includes data from the top 1000 movies based on the IMDB score. The data set includes the following columns:\n",
    "* Series_Title: the name of the film\n",
    "* Released_year: year it was released\n",
    "* Certificate: certificate earned by the movie\n",
    "* Runtime - total runtime\n",
    "* Genre - list of genres the film falls into\n",
    "* IMDB_Rating - the IMDB rating given by IMDB user reviews\n",
    "* Overview - plot summary\n",
    "* Meta_score - meta score of the movie determined by movie critics\n",
    "* Director - name of the director of the movie\n",
    "* Star1, Star2, Star3, Star4 - names of the stars of the movie in order of significance\n",
    "* No_of_votes - number of reviews on IMDB\n",
    "* Gross - how much money the movie earned"
   ]
  },
  {
   "cell_type": "markdown",
   "id": "47093674-25bb-4f5d-8c96-d8f59c4e9d25",
   "metadata": {},
   "source": [
    "Dataset Origin: https://www.kaggle.com/datasets/harshitshankhdhar/imdb-dataset-of-top-1000-movies-and-tv-shows"
   ]
  },
  {
   "cell_type": "code",
   "execution_count": null,
   "id": "a8653314-ca0b-4c82-82ad-37717519f20f",
   "metadata": {
    "tags": []
   },
   "outputs": [],
   "source": [
    "### Initialize libraries. \n",
    "library(tidyverse)\n",
    "library(dplyr)\n",
    "library(tidymodels)\n",
    "options(repr.matrix.max.rows = 8)"
   ]
  },
  {
   "cell_type": "code",
   "execution_count": null,
   "id": "ca92eecd-87c5-401a-8934-8651348acf39",
   "metadata": {
    "tags": []
   },
   "outputs": [],
   "source": [
    "### Reading from Github\n",
    "url <- \"https://github.com/anh-dong/dsci-100-2023w1-group-33/blob/main/data/imdb_top_1000.csv?raw=true\"\n",
    "movies <- read_csv(url) |>\n",
    "    filter(Released_Year > 1970)"
   ]
  },
  {
   "cell_type": "code",
   "execution_count": null,
   "id": "331d2c8c-c110-4d64-a466-0c340f96b243",
   "metadata": {},
   "outputs": [],
   "source": [
    "### Training data\n",
    "set.seed(1234)\n",
    "\n",
    "movies_training <- initial_split(movies, prop = 0.75, strata = Meta_score) |>\n",
    "    training()"
   ]
  },
  {
   "cell_type": "code",
   "execution_count": null,
   "id": "238744a3-6503-4064-bfd6-3fadb54440fa",
   "metadata": {},
   "outputs": [],
   "source": [
    "### Table Summary\n",
    "movies <- movies_training |>\n",
    "    select(Meta_score, IMDB_Rating, Released_Year) |>\n",
    "    mutate(Meta_score = round(scale(Meta_score), 0), IMDB_Rating = round(scale(IMDB_Rating), 0))\n",
    "\n",
    "movies_table_Meta_scores <- movies |>\n",
    "    group_by(Meta_score) |>\n",
    "    summarize(Meta_score_count = n()) |>\n",
    "    rename(normalized_value = Meta_score)\n",
    "\n",
    "\n",
    "movies_table_IMDB_Rating <- movies |>\n",
    "    group_by(IMDB_Rating) |>\n",
    "    summarize(IMDB_Rating_count = n()) |>\n",
    "    rename(normalized_value = IMDB_Rating)\n",
    "\n",
    "joined <- left_join(movies_table_Meta_scores, movies_table_IMDB_Rating) |>\n",
    "    mutate(IMDB_Rating_count = replace(IMDB_Rating_count, is.na(IMDB_Rating_count), 0))\n",
    "joined"
   ]
  },
  {
   "cell_type": "code",
   "execution_count": null,
   "id": "ba759768-bbcf-4f7d-8dc2-4a1eda40bdfb",
   "metadata": {
    "tags": []
   },
   "outputs": [],
   "source": [
    "### Summary Visual\n",
    "movies <- movies_training |>\n",
    "    select(Meta_score, IMDB_Rating, Released_Year) |>\n",
    "    filter(Released_Year > 1970) |>\n",
    "    na.omit() |>\n",
    "    mutate(Meta_score = scale(Meta_score), IMDB_Rating = scale(IMDB_Rating))\n",
    "\n",
    "Meta_score_hist <- movies |>\n",
    "    ggplot(aes(Meta_score)) +\n",
    "        geom_histogram(binwidth = 0.5) +\n",
    "        xlab(\"Normalized Meta Score\") +\n",
    "        ylab(\"Count\") +\n",
    "        ggtitle(\"Distribution of Meta Scores\")\n",
    "Meta_score_hist\n",
    "\n",
    "IMDB_Review_hist <- movies |>\n",
    "    ggplot(aes(IMDB_Rating)) +\n",
    "        geom_histogram(binwidth = 0.5) +\n",
    "        xlab(\"Normalized IMDB Rating\") +\n",
    "        ylab(\"Count\") +\n",
    "        ggtitle(\"Distribution of IMDB Ratings\")\n",
    "IMDB_Review_hist"
   ]
  },
  {
   "cell_type": "markdown",
   "id": "bfb0b404-7f9f-4486-9a31-747de9c5e47a",
   "metadata": {},
   "source": [
    "## Methods:\n",
    "The data will first be prepared by filtering for films released after 1970 and removing films without values in the Meta_score column. The relationship will be determined with a training data set containing 75% of the films a k-nn regression model using Meta_scores as the predictive variable and IMDB_Rating as the response variable. The k value will be determined through a tuning process to produce the minimal error between the training data set and the testing data set containing the films not found in the training data set. The error in the regression produced will give an indication on how strong the relationship is between the two variables. \n",
    "\n",
    "To visualize the result the scatter plot will be overlaid with a line produced by the regression to show whether the data is positively or negatively correlated and how much spread there is from the line and the data points."
   ]
  },
  {
   "cell_type": "markdown",
   "id": "2d0788ec-c559-4596-a0d9-08f5d4fe41c1",
   "metadata": {},
   "source": [
    "## Expected Outcomes and Significance:\n",
    "It is expected that the Meta Scores and audience reception will have a weak positive relationship. Critics are trying to give audiences an accurate expectation on the film based on their ratings so they should correlate positively with each other. However, critics and general audiences often look for different things in their ratings, producing more variability between the two ratings, potentially causing a weaker relationship. This relationship will allow audiences to understand how a meta score should factor into their decision to see a movie before any general audience ratings are available."
   ]
  }
 ],
 "metadata": {
  "kernelspec": {
   "display_name": "R",
   "language": "R",
   "name": "ir"
  },
  "language_info": {
   "codemirror_mode": "r",
   "file_extension": ".r",
   "mimetype": "text/x-r-source",
   "name": "R",
   "pygments_lexer": "r",
   "version": "4.2.2"
  },
  "widgets": {
   "application/vnd.jupyter.widget-state+json": {
    "state": {},
    "version_major": 2,
    "version_minor": 0
   }
  }
 },
 "nbformat": 4,
 "nbformat_minor": 5
}
