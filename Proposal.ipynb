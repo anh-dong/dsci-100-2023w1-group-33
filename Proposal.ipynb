{
 "cells": [
  {
   "cell_type": "markdown",
   "id": "a1ec870a-380e-4d7c-ae81-f7aae633d72a",
   "metadata": {},
   "source": [
    "Title:\n"
   ]
  },
  {
   "cell_type": "markdown",
   "id": "8533797d-6422-4b82-b99a-bc7f613cc842",
   "metadata": {
    "tags": []
   },
   "source": [
    "Introduction:\n",
    "Provide some relevant background information on the topic so that someone unfamiliar with it will be prepared to understand the rest of your proposal\n",
    "Clearly state the question you will try to answer with your project\n",
    "Identify and describe the dataset that will be used to answer the question"
   ]
  },
  {
   "cell_type": "markdown",
   "id": "b7cc5e3a-49e7-4103-948d-b89a9ad19ade",
   "metadata": {},
   "source": [
    "Preliminary exploratory data analysis:\n",
    "Demonstrate that the dataset can be read from the web into R \n",
    "Clean and wrangle your data into a tidy format\n",
    "Using only training data, summarize the data in at least one table (this is exploratory data analysis). An example of a useful table could be one that reports the number of observations in each class, the means of the predictor variables you plan to use in your analysis and how many rows have missing data. \n",
    "Using only training data, visualize the data with at least one plot relevant to the analysis you plan to do (this is exploratory data analysis). An example of a useful visualization could be one that compares the distributions of each of the predictor variables you plan to use in your analysis. "
   ]
  },
  {
   "cell_type": "markdown",
   "id": "47093674-25bb-4f5d-8c96-d8f59c4e9d25",
   "metadata": {},
   "source": [
    "Links to potential datasets:\n",
    "\n",
    "Sunshine hours for cities:\n",
    "https://data.world/makeovermonday/2019w44\n"
   ]
  },
  {
   "cell_type": "code",
   "execution_count": null,
   "id": "a8653314-ca0b-4c82-82ad-37717519f20f",
   "metadata": {
    "tags": []
   },
   "outputs": [],
   "source": [
    "### Run this cell before continuing. \n",
    "library(tidyverse)\n",
    "library(repr)\n",
    "library(rvest)\n",
    "library(stringr)\n",
    "library(janitor)\n",
    "options(repr.matrix.max.rows = 6)\n",
    "source(\"tests.R\")\n",
    "source(\"cleanup.R\")"
   ]
  },
  {
   "cell_type": "code",
   "execution_count": null,
   "id": "f43b7fa8-607b-428a-8e7e-210d0ef9a1dd",
   "metadata": {},
   "outputs": [],
   "source": [
    "movies <- read_csv(\"data/Movies.csv\") |>\n",
    "    select(`Year of Release`, `Movie Rating`, Gross, `Run Time in minutes`) |>\n",
    "    na.omit() |>\n",
    "    filter(`Year of Release` > 0 && `Movie Rating` > 0 && Gross > 0) |>\n",
    "    group_by(`Year of Release`) |>\n",
    "    summarize(ave_Gross = mean(Gross), ave_run_time = mean(`Run Time in minutes`)*60) |>\n",
    "    arrange(`Year of Release`)\n",
    "movies\n",
    "movies_plot <- movies |>\n",
    "    ggplot(aes(`Year of Release`, ave_Gross)) +\n",
    "        geom_point() +\n",
    "        xlab(\"Year\") +\n",
    "        ylab(\"Gross (USD)\") +\n",
    "        ggtitle(\"Average Yearly Gross for Movies over time\")\n",
    "movies_plot\n",
    "movies_plot_2 <- movies |>\n",
    "    ggplot(aes(`Year of Release`, ave_run_time)) +\n",
    "        geom_point() +\n",
    "        xlab(\"Year\") +\n",
    "        ylab(\"Runtime (hours)\") +\n",
    "        ggtitle(\"Movie Length for Movies over time\")\n",
    "movies_plot_2"
   ]
  },
  {
   "cell_type": "markdown",
   "id": "bfb0b404-7f9f-4486-9a31-747de9c5e47a",
   "metadata": {},
   "source": [
    "Methods:\n",
    "\n",
    "\n",
    "Explain how you will conduct either your data analysis and which variables/columns you will use. Note - you do not need to use all variables/columns that exist in the raw data set. In fact, that's often not a good idea. For each variable think: is this a useful variable for prediction?\n",
    "Describe at least one way that you will visualize the results"
   ]
  },
  {
   "cell_type": "markdown",
   "id": "1d43f577-f8de-49e2-8756-c6061119df41",
   "metadata": {},
   "source": [
    "Expected outcomes and significance:\n",
    "\n",
    "\n",
    "What do you expect to find?\n",
    "What impact could such findings have?\n",
    "What future questions could this lead to?"
   ]
  }
 ],
 "metadata": {
  "kernelspec": {
   "display_name": "R",
   "language": "R",
   "name": "ir"
  },
  "language_info": {
   "codemirror_mode": "r",
   "file_extension": ".r",
   "mimetype": "text/x-r-source",
   "name": "R",
   "pygments_lexer": "r",
   "version": "4.2.2"
  }
 },
 "nbformat": 4,
 "nbformat_minor": 5
}
