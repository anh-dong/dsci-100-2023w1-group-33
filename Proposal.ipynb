{
 "cells": [
  {
   "cell_type": "markdown",
   "id": "a1ec870a-380e-4d7c-ae81-f7aae633d72a",
   "metadata": {},
   "source": [
    "Title:\n"
   ]
  },
  {
   "cell_type": "markdown",
   "id": "8533797d-6422-4b82-b99a-bc7f613cc842",
   "metadata": {
    "tags": []
   },
   "source": [
    "Introduction:\n",
    "Provide some relevant background information on the topic so that someone unfamiliar with it will be prepared to understand the rest of your proposal\n",
    "Clearly state the question you will try to answer with your project\n",
    "Identify and describe the dataset that will be used to answer the question"
   ]
  },
  {
   "cell_type": "markdown",
   "id": "b7cc5e3a-49e7-4103-948d-b89a9ad19ade",
   "metadata": {},
   "source": [
    "Preliminary exploratory data analysis:\n",
    "Demonstrate that the dataset can be read from the web into R \n",
    "Clean and wrangle your data into a tidy format\n",
    "Using only training data, summarize the data in at least one table (this is exploratory data analysis). An example of a useful table could be one that reports the number of observations in each class, the means of the predictor variables you plan to use in your analysis and how many rows have missing data. \n",
    "Using only training data, visualize the data with at least one plot relevant to the analysis you plan to do (this is exploratory data analysis). An example of a useful visualization could be one that compares the distributions of each of the predictor variables you plan to use in your analysis. "
   ]
  },
  {
   "cell_type": "markdown",
   "id": "47093674-25bb-4f5d-8c96-d8f59c4e9d25",
   "metadata": {},
   "source": [
    "Dataset Origin: https://www.kaggle.com/datasets/harshitshankhdhar/imdb-dataset-of-top-1000-movies-and-tv-shows"
   ]
  },
  {
   "cell_type": "code",
   "execution_count": null,
   "id": "a8653314-ca0b-4c82-82ad-37717519f20f",
   "metadata": {
    "tags": []
   },
   "outputs": [],
   "source": [
    "### Run this cell before continuing. \n",
    "library(tidyverse)\n",
    "library(repr)\n",
    "library(rvest)\n",
    "library(stringr)\n",
    "options(repr.matrix.max.rows = 6)"
   ]
  },
  {
   "cell_type": "code",
   "execution_count": null,
   "id": "ca92eecd-87c5-401a-8934-8651348acf39",
   "metadata": {},
   "outputs": [],
   "source": [
    "url <- \"https://github.com/anh-dong/dsci-100-2023w1-group-33/blob/main/data/imdb_top_1000.csv?raw=true\"\n",
    "movies_raw <- read_csv(url) |>\n",
    "    select(-Poster_Link, -Overview) |>\n",
    "    filter(Released_Year > 1970)\n",
    "# movies_raw\n",
    "# selectors <- paste() asdf\n",
    "movies_raw"
   ]
  },
  {
   "cell_type": "code",
   "execution_count": null,
   "id": "f43b7fa8-607b-428a-8e7e-210d0ef9a1dd",
   "metadata": {},
   "outputs": [],
   "source": [
    "movies <- movies_raw |>\n",
    "    select(Released_Year, Meta_score, Gross, Runtime, IMDB_Rating) |>\n",
    "    na.omit() |>\n",
    "    mutate(Runtime = strtoi(Runtime %>% str_replace(\" min\", \"\"))) |>\n",
    "    group_by(Released_Year) |>\n",
    "    summarize(ave_Gross = mean(Gross), ave_runtime = mean(Runtime)*60, ave_score = mean(Meta_score), ave_IMDB_Rating = mean(IMDB_Rating)) |>\n",
    "    arrange(Released_Year)\n",
    "# movies\n",
    "\n",
    "movies_plot <- movies |>\n",
    "    ggplot(aes(Released_Year, ave_Gross)) +\n",
    "        geom_line() +\n",
    "        xlab(\"Year\") +\n",
    "        ylab(\"Gross (USD)\") +\n",
    "        ggtitle(\"Average Yearly Gross for Movies over time\")\n",
    "movies_plot\n",
    "\n",
    "movies_plot_2 <- movies |>\n",
    "    ggplot(aes(Released_Year, ave_runtime)) +\n",
    "        geom_line() +\n",
    "        xlab(\"Year\") +\n",
    "        ylab(\"Average Runtime (hours)\") +\n",
    "        ggtitle(\"Average Runtime for Movies over time\")\n",
    "movies_plot_2\n",
    "\n",
    "movies_plot_3 <- movies |>\n",
    "    ggplot(aes(Released_Year, ave_IMDB_Rating)) +\n",
    "        geom_line() +\n",
    "        xlab(\"Year\") +\n",
    "        ylab(\"Average IMDB Rating\") +\n",
    "        ggtitle(\"Average IMDB Rating for Movies over time\")\n",
    "movies_plot_3"
   ]
  },
  {
   "cell_type": "code",
   "execution_count": null,
   "id": "08d19906-fb99-42ed-a796-6a688123e4a0",
   "metadata": {},
   "outputs": [],
   "source": [
    "movies2 <- movies_raw |>\n",
    "    select(Meta_score, Gross, Runtime, IMDB_Rating) |>\n",
    "    na.omit() |>\n",
    "    mutate(Runtime = strtoi(Runtime %>% str_replace(\" min\", \"\"))) |>\n",
    "    group_by(Meta_score) |>\n",
    "    summarize(ave_Gross = mean(Gross), ave_runtime = mean(Runtime)*60, ave_IMDB_Rating = mean(IMDB_Rating))\n",
    "\n",
    "movies_plot_5 <- movies2 |>\n",
    "    ggplot(aes(Meta_score, ave_Gross)) +\n",
    "        geom_point() +\n",
    "        xlab(\"Meta Score\") +\n",
    "        ylab(\"Ave Gross (USD)\") +\n",
    "        ggtitle(\"Meta Score vs Average Gross\")\n",
    "movies_plot_5\n",
    "\n",
    "movies_plot_6 <- movies2 |>\n",
    "    ggplot(aes(Meta_score, ave_runtime)) +\n",
    "        geom_point() +\n",
    "        xlab(\"Meta Score\") +\n",
    "        ylab(\"Ave Runtime (Hours)\") +\n",
    "        ggtitle(\"Meta Score vs Average Runtime\")\n",
    "movies_plot_6\n",
    "\n",
    "movies_plot_7 <- movies2 |>\n",
    "    ggplot(aes(Meta_score, ave_IMDB_Rating)) +\n",
    "        geom_point() +\n",
    "        xlab(\"Meta Score\") +\n",
    "        ylab(\"Ave IMDB Rating\") +\n",
    "        ggtitle(\"Meta Score vs Average IMDB Rating\")\n",
    "movies_plot_7"
   ]
  },
  {
   "cell_type": "code",
   "execution_count": null,
   "id": "9153cd32-5d71-44cc-906b-80d226f786a8",
   "metadata": {
    "tags": []
   },
   "outputs": [],
   "source": [
    "movies3 <- movies_raw |>\n",
    "    select(Meta_score, Gross, Runtime, IMDB_Rating) |>\n",
    "    na.omit() |>\n",
    "    mutate(Runtime = strtoi(Runtime %>% str_replace(\" min\", \"\")))\n",
    "\n",
    "movies_plot_8 <- movies3 |>\n",
    "    ggplot(aes(Meta_score, IMDB_Rating)) +\n",
    "        geom_line() +\n",
    "        xlab(\"Year\") +\n",
    "        ylab(\"Runtime (hours)\") +\n",
    "        ggtitle(\"Movie Length for Movies over time\")\n",
    "movies_plot_8"
   ]
  },
  {
   "cell_type": "markdown",
   "id": "bfb0b404-7f9f-4486-9a31-747de9c5e47a",
   "metadata": {},
   "source": [
    "Methods:\n",
    "\n",
    "\n",
    "Explain how you will conduct either your data analysis and which variables/columns you will use. Note - you do not need to use all variables/columns that exist in the raw data set. In fact, that's often not a good idea. For each variable think: is this a useful variable for prediction?\n",
    "Describe at least one way that you will visualize the results"
   ]
  },
  {
   "cell_type": "markdown",
   "id": "1d43f577-f8de-49e2-8756-c6061119df41",
   "metadata": {},
   "source": [
    "Expected outcomes and significance:\n",
    "\n",
    "\n",
    "What do you expect to find?\n",
    "What impact could such findings have?\n",
    "What future questions could this lead to?"
   ]
  }
 ],
 "metadata": {
  "kernelspec": {
   "display_name": "R",
   "language": "R",
   "name": "ir"
  },
  "language_info": {
   "codemirror_mode": "r",
   "file_extension": ".r",
   "mimetype": "text/x-r-source",
   "name": "R",
   "pygments_lexer": "r",
   "version": "4.2.2"
  }
 },
 "nbformat": 4,
 "nbformat_minor": 5
}
