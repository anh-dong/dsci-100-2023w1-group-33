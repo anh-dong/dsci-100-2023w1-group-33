{
 "cells": [
  {
   "cell_type": "markdown",
   "id": "a1ec870a-380e-4d7c-ae81-f7aae633d72a",
   "metadata": {},
   "source": [
    "# Exploring the Relationship Between the Meta Scores of Films and the Reviews of the General Audiance for Films After the 1970s?\n"
   ]
  },
  {
   "cell_type": "markdown",
   "id": "87d90c53-59c7-46f8-ace1-38820a80375f",
   "metadata": {},
   "source": [
    "## Introduction:\n",
    "\n",
    "IMDB is an online database of information related to films, television series, podcasts, and other forms of entertainment content. For our project we will be working specifically with movie (film) data from IMDB. This database presents data regarding several aspects of the content - including cast, production crew, plot summary, and scores. IMDB presents two kinds of scores; IMDB scores which are user-generated, meaning they are an average of reviews submitted on the IMDB website by non-critic viewers, and Meta Scores which are critic-generated, meaning they are an average of reviews from critics, professionals who analyze films. \n",
    "\n",
    "For our project we will try to answer the following question:\n",
    "\"How accurate are the Meta Scores of films in representing the general interest of the viewers for films after 1970?\"\n",
    "\n",
    "The dataset presented is from Kaggle, and includes data from the top 1000 movies based on the IMDB score from the IMBD online database. The dataset includes data for movie name (Series_Title), year of release (Released_year), certificate earner by the movie (Certificate), total runtime (Runtime), genre (Genre), the IMDB score of the movie (IMDB_Rating), plot summary (Overview), the Meta score of the movie (Meta_score), the director (Director), stars of the movie (Star1, Star2, Star3, Star4), number of reviews on IMDB (No_of_votes), and the amount of money earned by the movie (Gross). In summary, this project will determine if meta scores are an accurate predictor of audience reception of a movie using the Meta_score and IMDB_Rating data respectively.\n"
   ]
  },
  {
   "cell_type": "markdown",
   "id": "47093674-25bb-4f5d-8c96-d8f59c4e9d25",
   "metadata": {},
   "source": [
    "Dataset Origin: https://www.kaggle.com/datasets/harshitshankhdhar/imdb-dataset-of-top-1000-movies-and-tv-shows"
   ]
  },
  {
   "cell_type": "code",
   "execution_count": null,
   "id": "a8653314-ca0b-4c82-82ad-37717519f20f",
   "metadata": {
    "tags": []
   },
   "outputs": [],
   "source": [
    "### Initialize. \n",
    "library(tidyverse)\n",
    "library(repr)\n",
    "library(rvest)\n",
    "library(stringr)\n",
    "library(dplyr)\n",
    "options(repr.matrix.max.rows = 8)"
   ]
  },
  {
   "cell_type": "code",
   "execution_count": null,
   "id": "ca92eecd-87c5-401a-8934-8651348acf39",
   "metadata": {
    "tags": []
   },
   "outputs": [],
   "source": [
    "### Reading from Github\n",
    "url <- \"https://github.com/anh-dong/dsci-100-2023w1-group-33/blob/main/data/imdb_top_1000.csv?raw=true\"\n",
    "movies_raw <- read_csv(url)"
   ]
  },
  {
   "cell_type": "code",
   "execution_count": null,
   "id": "238744a3-6503-4064-bfd6-3fadb54440fa",
   "metadata": {},
   "outputs": [],
   "source": [
    "### Table Summary\n",
    "movies <- movies_raw |>\n",
    "    select(Meta_score, IMDB_Rating, Released_Year) |>\n",
    "    filter(Released_Year > 1970) |>\n",
    "    mutate(Meta_score = round(scale(Meta_score), 0), IMDB_Rating = round(scale(IMDB_Rating), 0))\n",
    "\n",
    "movies_table_Meta_scores <- movies |>\n",
    "    group_by(Meta_score) |>\n",
    "    summarize(Meta_score_count = n()) |>\n",
    "    rename(normalized_value = Meta_score)\n",
    "\n",
    "\n",
    "movies_table_IMDB_Rating <- movies |>\n",
    "    group_by(IMDB_Rating) |>\n",
    "    summarize(IMDB_Rating_count = n()) |>\n",
    "    rename(normalized_value = IMDB_Rating)\n",
    "\n",
    "joined <- left_join(movies_table_Meta_scores, movies_table_IMDB_Rating) |>\n",
    "    mutate(IMDB_Rating_count = replace(IMDB_Rating_count, is.na(IMDB_Rating_count), 0))\n",
    "joined"
   ]
  },
  {
   "cell_type": "code",
   "execution_count": null,
   "id": "ba759768-bbcf-4f7d-8dc2-4a1eda40bdfb",
   "metadata": {
    "tags": []
   },
   "outputs": [],
   "source": [
    "### Summary Visual\n",
    "movies <- movies_raw |>\n",
    "    select(Meta_score, IMDB_Rating, Released_Year) |>\n",
    "    filter(Released_Year > 1970) |>\n",
    "    mutate(Meta_score = scale(Meta_score), IMDB_Rating = scale(IMDB_Rating))\n",
    "\n",
    "Meta_score_hist <- movies |>\n",
    "    ggplot(aes(Meta_score)) +\n",
    "        geom_histogram(binwidth = 0.5) +\n",
    "        xlab(\"Normalized Meta Score\") +\n",
    "        ylab(\"Count\") +\n",
    "        ggtitle(\"Distribution of Meta Scores\")\n",
    "Meta_score_hist\n",
    "\n",
    "IMDB_Review_hist <- movies |>\n",
    "    ggplot(aes(IMDB_Rating)) +\n",
    "        geom_histogram(binwidth = 0.5) +\n",
    "        xlab(\"Normalized IMDB Rating\") +\n",
    "        ylab(\"Count\") +\n",
    "        ggtitle(\"Distribution of IMDB Ratings\")\n",
    "IMDB_Review_hist"
   ]
  },
  {
   "cell_type": "markdown",
   "id": "bfb0b404-7f9f-4486-9a31-747de9c5e47a",
   "metadata": {},
   "source": [
    "## Methods:\n",
    "\n",
    "In the first step we used the select and filter functions to filter out the columns we needed from the data. We removed the Poster Link and Overview scores and filtered the movies to after 1970.\n",
    "\n",
    "In the second step we extracted the Meta scores and IMDB ratings from the data using select and plotted them as a histogram to see the average of the ratings more visually.\n",
    "\n",
    "For further observation, we extracted the columns for Gross, Runtime, and IMDB scores and then plotted each against the year as three scatter plots. In addition, we also plotted scatter plots based on Meta Score and these three variables.\n",
    "\n",
    "These graphs can better help us to find the direct relationship of each variable and thus make hypothesis for further research."
   ]
  },
  {
   "cell_type": "markdown",
   "id": "2d0788ec-c559-4596-a0d9-08f5d4fe41c1",
   "metadata": {},
   "source": [
    "## Expected Outcomes and Significance:\n",
    "\n",
    "Our prediction is that that the Meta Scores will be weakly proportional to each other. This is expected because in general, critics are trying to give audiences an accurate expectation on the film based on their ratings so they should correlate positively with each other. However, the critics producing the meta scores would likely focus on more creative minute details such as creative decisions to determine a given rating, while general audiences reviews would be more skewed towards the overall content and how entertaining the film was, suggesting that there will not be a strong relationship between the two variables."
   ]
  }
 ],
 "metadata": {
  "kernelspec": {
   "display_name": "R",
   "language": "R",
   "name": "ir"
  },
  "language_info": {
   "codemirror_mode": "r",
   "file_extension": ".r",
   "mimetype": "text/x-r-source",
   "name": "R",
   "pygments_lexer": "r",
   "version": "4.2.2"
  },
  "widgets": {
   "application/vnd.jupyter.widget-state+json": {
    "state": {},
    "version_major": 2,
    "version_minor": 0
   }
  }
 },
 "nbformat": 4,
 "nbformat_minor": 5
}
