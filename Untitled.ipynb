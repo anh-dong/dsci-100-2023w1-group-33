{
 "cells": [
  {
   "cell_type": "markdown",
   "id": "e1b883f4-27ee-4f4e-b483-a15df4ec75da",
   "metadata": {},
   "source": [
    "Other stuff"
   ]
  },
  {
   "cell_type": "code",
   "execution_count": 1,
   "id": "b3efdd82-c597-4a62-8df0-9292f55c1519",
   "metadata": {
    "tags": []
   },
   "outputs": [
    {
     "ename": "ERROR",
     "evalue": "Error in arrange(summarize(group_by(mutate(na.omit(select(movies_raw, : could not find function \"arrange\"\n",
     "output_type": "error",
     "traceback": [
      "Error in arrange(summarize(group_by(mutate(na.omit(select(movies_raw, : could not find function \"arrange\"\nTraceback:\n"
     ]
    }
   ],
   "source": [
    "movies <- movies_raw |>\n",
    "    select(Released_Year, Meta_score, Gross, Runtime, IMDB_Rating) |>\n",
    "    na.omit() |>\n",
    "    mutate(Runtime = strtoi(Runtime %>% str_replace(\" min\", \"\"))) |>\n",
    "    group_by(Released_Year) |>\n",
    "    summarize(ave_Gross = mean(Gross), ave_runtime = mean(Runtime)*60, ave_score = mean(Meta_score), ave_IMDB_Rating = mean(IMDB_Rating)) |>\n",
    "    arrange(Released_Year)\n",
    "# movies\n",
    "movies_plot <- movies |>\n",
    "    ggplot(aes(Released_Year, ave_Gross)) +\n",
    "        geom_point() +\n",
    "        xlab(\"Year\") +\n",
    "        ylab(\"Gross (USD)\") +\n",
    "        ggtitle(\"Average Yearly Gross for Movies over time\")\n",
    "movies_plot\n",
    "movies_plot_2 <- movies |>\n",
    "    ggplot(aes(Released_Year, ave_runtime)) +\n",
    "        geom_point() +\n",
    "        xlab(\"Year\") +\n",
    "        ylab(\"Runtime (hours)\") +\n",
    "        ggtitle(\"Movie Length for Movies over time\")\n",
    "movies_plot_2\n",
    "movies_plot_3 <- movies |>\n",
    "    ggplot(aes(Released_Year, ave_IMDB_Rating)) +\n",
    "        geom_point() +\n",
    "        xlab(\"Year\") +\n",
    "        ylab(\"Runtime (hours)\") +\n",
    "        ggtitle(\"Movie Length for Movies over time\")\n",
    "movies_plot_3\n"
   ]
  },
  {
   "cell_type": "code",
   "execution_count": 2,
   "id": "80ddc15c-4aaf-4043-8d2b-7ff2d0ba2439",
   "metadata": {
    "tags": []
   },
   "outputs": [
    {
     "ename": "ERROR",
     "evalue": "Error in summarize(group_by(mutate(na.omit(select(movies_raw, Meta_score, : could not find function \"summarize\"\n",
     "output_type": "error",
     "traceback": [
      "Error in summarize(group_by(mutate(na.omit(select(movies_raw, Meta_score, : could not find function \"summarize\"\nTraceback:\n"
     ]
    }
   ],
   "source": [
    "movies2 <- movies_raw |>\n",
    "    select(Meta_score, Gross, Runtime, IMDB_Rating) |>\n",
    "    na.omit() |>\n",
    "    mutate(Runtime = strtoi(Runtime %>% str_replace(\" min\", \"\"))) |>\n",
    "    group_by(Meta_score) |>\n",
    "    summarize(ave_Gross = mean(Gross), ave_runtime = mean(Runtime)*60, ave_IMDB_Rating = mean(IMDB_Rating))\n",
    "movies_plot_3 <- movies2 |>\n",
    "    ggplot(aes(Meta_score, ave_Gross)) +\n",
    "        geom_point() +\n",
    "        xlab(\"Meta Score\") +\n",
    "        ylab(\"Ave Gross (USD)\") +\n",
    "        ggtitle(\"Meta Score vs Ave Gross\")\n",
    "movies_plot_3\n",
    "movies_plot_3 <- movies2 |>\n",
    "    ggplot(aes(Meta_score, ave_runtime)) +\n",
    "        geom_point() +\n",
    "        xlab(\"Meta Score\") +\n",
    "        ylab(\"Ave Runtime (Hours)\") +\n",
    "        ggtitle(\"Meta Score vs Ave Gross\")\n",
    "movies_plot_3\n",
    "movies_plot_4 <- movies2 |>\n",
    "    ggplot(aes(Meta_score, ave_IMDB_Rating)) +\n",
    "        geom_point() +\n",
    "        xlab(\"Meta Score\") +\n",
    "        ylab(\"Ave Runtime (Hours)\") +\n",
    "        ggtitle(\"Meta Score vs Ave Gross\")\n",
    "movies_plot_4"
   ]
  },
  {
   "cell_type": "code",
   "execution_count": 3,
   "id": "31b3031f-ae2f-4a42-9aad-a1112a9f5fb1",
   "metadata": {
    "tags": []
   },
   "outputs": [
    {
     "ename": "ERROR",
     "evalue": "Error in mutate(na.omit(select(movies_raw, Meta_score, Gross, Runtime, : could not find function \"mutate\"\n",
     "output_type": "error",
     "traceback": [
      "Error in mutate(na.omit(select(movies_raw, Meta_score, Gross, Runtime, : could not find function \"mutate\"\nTraceback:\n"
     ]
    }
   ],
   "source": [
    "movies3 <- movies_raw |>\n",
    "    select(Meta_score, Gross, Runtime, IMDB_Rating) |>\n",
    "    na.omit() |>\n",
    "    mutate(Runtime = strtoi(Runtime %>% str_replace(\" min\", \"\")))\n",
    "movies_plot_3 <- movies3 |>\n",
    "    ggplot(aes(Meta_score, IMDB_Rating)) +\n",
    "        geom_point() +\n",
    "        xlab(\"Year\") +\n",
    "        ylab(\"Runtime (hours)\") +\n",
    "        ggtitle(\"Movie Length for Movies over time\")\n",
    "movies_plot_3"
   ]
  },
  {
   "cell_type": "code",
   "execution_count": null,
   "id": "8afb2db4-0b5e-4dcf-b9e2-8527083352b8",
   "metadata": {},
   "outputs": [],
   "source": []
  }
 ],
 "metadata": {
  "kernelspec": {
   "display_name": "R",
   "language": "R",
   "name": "ir"
  },
  "language_info": {
   "codemirror_mode": "r",
   "file_extension": ".r",
   "mimetype": "text/x-r-source",
   "name": "R",
   "pygments_lexer": "r",
   "version": "4.2.2"
  },
  "widgets": {
   "application/vnd.jupyter.widget-state+json": {
    "state": {},
    "version_major": 2,
    "version_minor": 0
   }
  }
 },
 "nbformat": 4,
 "nbformat_minor": 5
}
