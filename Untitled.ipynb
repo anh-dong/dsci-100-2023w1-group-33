{
 "cells": [
  {
   "cell_type": "code",
   "execution_count": null,
   "id": "c69cff42-b0d1-486a-999c-34e320732c7d",
   "metadata": {},
   "outputs": [],
   "source": []
  }
 ],
 "metadata": {
  "kernelspec": {
   "display_name": "R",
   "language": "R",
   "name": "ir"
  },
  "language_info": {
   "codemirror_mode": "r",
   "file_extension": ".r",
   "mimetype": "text/x-r-source",
   "name": "R",
   "pygments_lexer": "r",
   "version": "4.2.2"
  }
 },
 "nbformat": 4,
 "nbformat_minor": 5
}
